{
 "cells": [
  {
   "cell_type": "markdown",
   "id": "d1e614ba-173a-4954-9a77-9653db1d9375",
   "metadata": {},
   "source": [
    "# Users"
   ]
  },
  {
   "cell_type": "markdown",
   "id": "4c871a46-6c8a-4dd3-aaea-30eb61e5fb7c",
   "metadata": {
    "tags": []
   },
   "source": [
    "## Load data"
   ]
  },
  {
   "cell_type": "code",
   "execution_count": 1,
   "id": "c98beb05-7828-4142-a96a-12ff4ba4f4fe",
   "metadata": {},
   "outputs": [],
   "source": [
    "import pickle as pkl\n",
    "import pandas as pd\n",
    "import numpy as np\n",
    "import seaborn as sns\n",
    "import matplotlib.pyplot as plt\n",
    "from sklearn.metrics import confusion_matrix\n",
    "sns.set()\n",
    "pd.set_option('display.max_columns', None)\n",
    "# import os\n",
    "# import datetime\n",
    "# from datetime import datetime\n",
    "# import math\n",
    "\n",
    "# from tqdm import tqdm\n",
    "# from scipy.stats import pearsonr"
   ]
  },
  {
   "cell_type": "code",
   "execution_count": 2,
   "id": "94891836-9bb8-4dad-bf77-445facbda327",
   "metadata": {},
   "outputs": [
    {
     "data": {
      "text/html": [
       "<div>\n",
       "<style scoped>\n",
       "    .dataframe tbody tr th:only-of-type {\n",
       "        vertical-align: middle;\n",
       "    }\n",
       "\n",
       "    .dataframe tbody tr th {\n",
       "        vertical-align: top;\n",
       "    }\n",
       "\n",
       "    .dataframe thead th {\n",
       "        text-align: right;\n",
       "    }\n",
       "</style>\n",
       "<table border=\"1\" class=\"dataframe\">\n",
       "  <thead>\n",
       "    <tr style=\"text-align: right;\">\n",
       "      <th></th>\n",
       "      <th>user_id</th>\n",
       "      <th>exp_id</th>\n",
       "      <th>sch_id_1</th>\n",
       "      <th>sch_id_2</th>\n",
       "      <th>pair</th>\n",
       "      <th>realconf</th>\n",
       "      <th>rec_time</th>\n",
       "      <th>time</th>\n",
       "      <th>userconf</th>\n",
       "      <th>user_sub_val</th>\n",
       "      <th>user_ans_is_match</th>\n",
       "      <th>mouse_loc</th>\n",
       "      <th>order</th>\n",
       "      <th>token_path</th>\n",
       "      <th>term_match</th>\n",
       "      <th>word_net</th>\n",
       "    </tr>\n",
       "  </thead>\n",
       "  <tbody>\n",
       "    <tr>\n",
       "      <th>0</th>\n",
       "      <td>171</td>\n",
       "      <td>14</td>\n",
       "      <td>134</td>\n",
       "      <td>180</td>\n",
       "      <td>(134, 180)</td>\n",
       "      <td>0</td>\n",
       "      <td>2020-12-19 12:28:39</td>\n",
       "      <td>26</td>\n",
       "      <td>34</td>\n",
       "      <td>67</td>\n",
       "      <td>1</td>\n",
       "      <td>(1608373691424,1094.4655929721816,406.656,true...</td>\n",
       "      <td>1</td>\n",
       "      <td>0.484821</td>\n",
       "      <td>0.619156</td>\n",
       "      <td>1.0</td>\n",
       "    </tr>\n",
       "    <tr>\n",
       "      <th>1</th>\n",
       "      <td>171</td>\n",
       "      <td>14</td>\n",
       "      <td>134</td>\n",
       "      <td>182</td>\n",
       "      <td>(134, 182)</td>\n",
       "      <td>0</td>\n",
       "      <td>2020-12-19 12:28:45</td>\n",
       "      <td>6</td>\n",
       "      <td>38</td>\n",
       "      <td>69</td>\n",
       "      <td>1</td>\n",
       "      <td>(1608373716894,897.6866764275256,593.28,true,f...</td>\n",
       "      <td>2</td>\n",
       "      <td>0.454945</td>\n",
       "      <td>0.578095</td>\n",
       "      <td>1.0</td>\n",
       "    </tr>\n",
       "    <tr>\n",
       "      <th>2</th>\n",
       "      <td>171</td>\n",
       "      <td>14</td>\n",
       "      <td>153</td>\n",
       "      <td>183</td>\n",
       "      <td>(153, 183)</td>\n",
       "      <td>1</td>\n",
       "      <td>2020-12-19 12:28:54</td>\n",
       "      <td>9</td>\n",
       "      <td>24</td>\n",
       "      <td>38</td>\n",
       "      <td>0</td>\n",
       "      <td>(1608373722986,1006.3836017569546,669.312,true...</td>\n",
       "      <td>3</td>\n",
       "      <td>0.552425</td>\n",
       "      <td>0.397624</td>\n",
       "      <td>1.0</td>\n",
       "    </tr>\n",
       "    <tr>\n",
       "      <th>3</th>\n",
       "      <td>171</td>\n",
       "      <td>14</td>\n",
       "      <td>149</td>\n",
       "      <td>180</td>\n",
       "      <td>(149, 180)</td>\n",
       "      <td>0</td>\n",
       "      <td>2020-12-19 12:28:57</td>\n",
       "      <td>3</td>\n",
       "      <td>14</td>\n",
       "      <td>57</td>\n",
       "      <td>1</td>\n",
       "      <td>(1608373731943,1093.528550512445,667.008,true,...</td>\n",
       "      <td>4</td>\n",
       "      <td>0.502679</td>\n",
       "      <td>0.619156</td>\n",
       "      <td>1.0</td>\n",
       "    </tr>\n",
       "    <tr>\n",
       "      <th>4</th>\n",
       "      <td>171</td>\n",
       "      <td>14</td>\n",
       "      <td>163</td>\n",
       "      <td>176</td>\n",
       "      <td>(163, 176)</td>\n",
       "      <td>1</td>\n",
       "      <td>2020-12-19 12:29:01</td>\n",
       "      <td>4</td>\n",
       "      <td>24</td>\n",
       "      <td>62</td>\n",
       "      <td>1</td>\n",
       "      <td>(1608373734940,1104.7730600292825,660.096,true...</td>\n",
       "      <td>5</td>\n",
       "      <td>0.570769</td>\n",
       "      <td>0.650000</td>\n",
       "      <td>1.0</td>\n",
       "    </tr>\n",
       "  </tbody>\n",
       "</table>\n",
       "</div>"
      ],
      "text/plain": [
       "   user_id  exp_id  sch_id_1  sch_id_2        pair  realconf  \\\n",
       "0      171      14       134       180  (134, 180)         0   \n",
       "1      171      14       134       182  (134, 182)         0   \n",
       "2      171      14       153       183  (153, 183)         1   \n",
       "3      171      14       149       180  (149, 180)         0   \n",
       "4      171      14       163       176  (163, 176)         1   \n",
       "\n",
       "             rec_time  time  userconf  user_sub_val  user_ans_is_match  \\\n",
       "0 2020-12-19 12:28:39    26        34            67                  1   \n",
       "1 2020-12-19 12:28:45     6        38            69                  1   \n",
       "2 2020-12-19 12:28:54     9        24            38                  0   \n",
       "3 2020-12-19 12:28:57     3        14            57                  1   \n",
       "4 2020-12-19 12:29:01     4        24            62                  1   \n",
       "\n",
       "                                           mouse_loc  order  token_path  \\\n",
       "0  (1608373691424,1094.4655929721816,406.656,true...      1    0.484821   \n",
       "1  (1608373716894,897.6866764275256,593.28,true,f...      2    0.454945   \n",
       "2  (1608373722986,1006.3836017569546,669.312,true...      3    0.552425   \n",
       "3  (1608373731943,1093.528550512445,667.008,true,...      4    0.502679   \n",
       "4  (1608373734940,1104.7730600292825,660.096,true...      5    0.570769   \n",
       "\n",
       "   term_match  word_net  \n",
       "0    0.619156       1.0  \n",
       "1    0.578095       1.0  \n",
       "2    0.397624       1.0  \n",
       "3    0.619156       1.0  \n",
       "4    0.650000       1.0  "
      ]
     },
     "execution_count": 2,
     "metadata": {},
     "output_type": "execute_result"
    }
   ],
   "source": [
    "data = pkl.load(open('data/data.pkl','rb'))\n",
    "data.head()"
   ]
  },
  {
   "cell_type": "markdown",
   "id": "1063621a-3ad5-4b36-9670-2b51bb307124",
   "metadata": {
    "tags": []
   },
   "source": [
    "### Normalize confidence and filter outliers"
   ]
  },
  {
   "cell_type": "code",
   "execution_count": 3,
   "id": "47e8bc27-1be8-4d9b-9677-e41c1d523f6f",
   "metadata": {},
   "outputs": [],
   "source": [
    "data['userconf'] /= 100"
   ]
  },
  {
   "cell_type": "code",
   "execution_count": 4,
   "id": "fd4e5210-96ad-40f0-b668-e2890cafc865",
   "metadata": {},
   "outputs": [
    {
     "data": {
      "text/html": [
       "<div>\n",
       "<style scoped>\n",
       "    .dataframe tbody tr th:only-of-type {\n",
       "        vertical-align: middle;\n",
       "    }\n",
       "\n",
       "    .dataframe tbody tr th {\n",
       "        vertical-align: top;\n",
       "    }\n",
       "\n",
       "    .dataframe thead th {\n",
       "        text-align: right;\n",
       "    }\n",
       "</style>\n",
       "<table border=\"1\" class=\"dataframe\">\n",
       "  <thead>\n",
       "    <tr style=\"text-align: right;\">\n",
       "      <th></th>\n",
       "      <th>user_id</th>\n",
       "      <th>exp_id</th>\n",
       "      <th>sch_id_1</th>\n",
       "      <th>sch_id_2</th>\n",
       "      <th>pair</th>\n",
       "      <th>realconf</th>\n",
       "      <th>rec_time</th>\n",
       "      <th>time</th>\n",
       "      <th>userconf</th>\n",
       "      <th>user_sub_val</th>\n",
       "      <th>user_ans_is_match</th>\n",
       "      <th>mouse_loc</th>\n",
       "      <th>order</th>\n",
       "      <th>token_path</th>\n",
       "      <th>term_match</th>\n",
       "      <th>word_net</th>\n",
       "    </tr>\n",
       "  </thead>\n",
       "  <tbody>\n",
       "    <tr>\n",
       "      <th>0</th>\n",
       "      <td>174</td>\n",
       "      <td>14</td>\n",
       "      <td>134</td>\n",
       "      <td>180</td>\n",
       "      <td>(134, 180)</td>\n",
       "      <td>0</td>\n",
       "      <td>2020-12-19 12:37:19</td>\n",
       "      <td>14</td>\n",
       "      <td>0.40</td>\n",
       "      <td>30</td>\n",
       "      <td>0</td>\n",
       "      <td>(1608374227475,744.9493142516399,642.208883553...</td>\n",
       "      <td>1</td>\n",
       "      <td>0.484821</td>\n",
       "      <td>0.619156</td>\n",
       "      <td>1.0</td>\n",
       "    </tr>\n",
       "    <tr>\n",
       "      <th>1</th>\n",
       "      <td>174</td>\n",
       "      <td>14</td>\n",
       "      <td>134</td>\n",
       "      <td>182</td>\n",
       "      <td>(134, 182)</td>\n",
       "      <td>0</td>\n",
       "      <td>2020-12-19 12:37:28</td>\n",
       "      <td>9</td>\n",
       "      <td>0.24</td>\n",
       "      <td>38</td>\n",
       "      <td>0</td>\n",
       "      <td>(1608374241158,1025.0685748360168,622.32893157...</td>\n",
       "      <td>2</td>\n",
       "      <td>0.454945</td>\n",
       "      <td>0.578095</td>\n",
       "      <td>1.0</td>\n",
       "    </tr>\n",
       "    <tr>\n",
       "      <th>2</th>\n",
       "      <td>174</td>\n",
       "      <td>14</td>\n",
       "      <td>153</td>\n",
       "      <td>183</td>\n",
       "      <td>(153, 183)</td>\n",
       "      <td>1</td>\n",
       "      <td>2020-12-19 12:37:38</td>\n",
       "      <td>10</td>\n",
       "      <td>0.20</td>\n",
       "      <td>40</td>\n",
       "      <td>0</td>\n",
       "      <td>(1608374250764,799.1413237924866,670.732292917...</td>\n",
       "      <td>3</td>\n",
       "      <td>0.552425</td>\n",
       "      <td>0.397624</td>\n",
       "      <td>1.0</td>\n",
       "    </tr>\n",
       "    <tr>\n",
       "      <th>3</th>\n",
       "      <td>174</td>\n",
       "      <td>14</td>\n",
       "      <td>149</td>\n",
       "      <td>180</td>\n",
       "      <td>(149, 180)</td>\n",
       "      <td>0</td>\n",
       "      <td>2020-12-19 12:37:46</td>\n",
       "      <td>8</td>\n",
       "      <td>0.14</td>\n",
       "      <td>43</td>\n",
       "      <td>0</td>\n",
       "      <td>(1608374260455,799.1413237924866,649.123649459...</td>\n",
       "      <td>4</td>\n",
       "      <td>0.502679</td>\n",
       "      <td>0.619156</td>\n",
       "      <td>1.0</td>\n",
       "    </tr>\n",
       "    <tr>\n",
       "      <th>4</th>\n",
       "      <td>174</td>\n",
       "      <td>14</td>\n",
       "      <td>163</td>\n",
       "      <td>176</td>\n",
       "      <td>(163, 176)</td>\n",
       "      <td>1</td>\n",
       "      <td>2020-12-19 12:37:51</td>\n",
       "      <td>5</td>\n",
       "      <td>0.10</td>\n",
       "      <td>55</td>\n",
       "      <td>1</td>\n",
       "      <td>(1608374268412,883.8640429338104,583.433373349...</td>\n",
       "      <td>5</td>\n",
       "      <td>0.570769</td>\n",
       "      <td>0.650000</td>\n",
       "      <td>1.0</td>\n",
       "    </tr>\n",
       "  </tbody>\n",
       "</table>\n",
       "</div>"
      ],
      "text/plain": [
       "   user_id  exp_id  sch_id_1  sch_id_2        pair  realconf  \\\n",
       "0      174      14       134       180  (134, 180)         0   \n",
       "1      174      14       134       182  (134, 182)         0   \n",
       "2      174      14       153       183  (153, 183)         1   \n",
       "3      174      14       149       180  (149, 180)         0   \n",
       "4      174      14       163       176  (163, 176)         1   \n",
       "\n",
       "             rec_time  time  userconf  user_sub_val  user_ans_is_match  \\\n",
       "0 2020-12-19 12:37:19    14      0.40            30                  0   \n",
       "1 2020-12-19 12:37:28     9      0.24            38                  0   \n",
       "2 2020-12-19 12:37:38    10      0.20            40                  0   \n",
       "3 2020-12-19 12:37:46     8      0.14            43                  0   \n",
       "4 2020-12-19 12:37:51     5      0.10            55                  1   \n",
       "\n",
       "                                           mouse_loc  order  token_path  \\\n",
       "0  (1608374227475,744.9493142516399,642.208883553...      1    0.484821   \n",
       "1  (1608374241158,1025.0685748360168,622.32893157...      2    0.454945   \n",
       "2  (1608374250764,799.1413237924866,670.732292917...      3    0.552425   \n",
       "3  (1608374260455,799.1413237924866,649.123649459...      4    0.502679   \n",
       "4  (1608374268412,883.8640429338104,583.433373349...      5    0.570769   \n",
       "\n",
       "   term_match  word_net  \n",
       "0    0.619156       1.0  \n",
       "1    0.578095       1.0  \n",
       "2    0.397624       1.0  \n",
       "3    0.619156       1.0  \n",
       "4    0.650000       1.0  "
      ]
     },
     "execution_count": 4,
     "metadata": {},
     "output_type": "execute_result"
    }
   ],
   "source": [
    "time_describe = data[['time']].describe()\n",
    "lower_bound = max(0, time_describe.loc['mean'].item() - 2 * time_describe.loc['std'].item())\n",
    "upper_bound = time_describe.loc['mean'].item() + 2 * time_describe.loc['std'].item()\n",
    "problematic_users = data[(lower_bound > data['time']) | (data['time'] > upper_bound)]['user_id'].unique()\n",
    "data = data[~data['user_id'].isin(problematic_users)].reset_index(drop=True)\n",
    "data.head()"
   ]
  },
  {
   "cell_type": "markdown",
   "id": "c39b8b6d-7e10-4121-9739-22629ac53ad8",
   "metadata": {},
   "source": [
    "## Users study"
   ]
  },
  {
   "cell_type": "markdown",
   "id": "6dc28dc2-0a12-40c9-99d8-518a8fbe8269",
   "metadata": {},
   "source": [
    "### Exp id"
   ]
  },
  {
   "cell_type": "markdown",
   "id": "a2eb1af6-8feb-4b7a-82ed-448cf61cdfd9",
   "metadata": {},
   "source": [
    "14 - prolific\n",
    "15 - DBMS"
   ]
  },
  {
   "cell_type": "code",
   "execution_count": 32,
   "id": "0c5091d3-d2ce-4ec3-89fa-803ab9883c1f",
   "metadata": {},
   "outputs": [
    {
     "data": {
      "text/plain": [
       "exp_id\n",
       "14    2490\n",
       "15    1920\n",
       "dtype: int64"
      ]
     },
     "metadata": {},
     "output_type": "display_data"
    },
    {
     "data": {
      "image/png": "[encoded data removed]",
      "text/plain": [
       "<Figure size 640x480 with 1 Axes>"
      ]
     },
     "metadata": {},
     "output_type": "display_data"
    }
   ],
   "source": [
    "palette_color = sns.color_palette('bright')\n",
    "counts = data.groupby('exp_id').size()\n",
    "display(counts)\n",
    "plt.pie(counts.values, labels=[{14:'Prolific', 15:'DBMS'}[i] for i in counts.index], colors=palette_color, autopct=lambda pct: round(0.01*pct*counts.sum()))\n",
    "plt.show()"
   ]
  },
  {
   "cell_type": "markdown",
   "id": "bc010e03-ae6f-415e-ad32-b136fa3caf27",
   "metadata": {},
   "source": [
    "### Times and confidence distributions"
   ]
  },
  {
   "cell_type": "code",
   "execution_count": 71,
   "id": "cb90e59e-345a-4b0f-9ee7-7edcb123426e",
   "metadata": {},
   "outputs": [
    {
     "data": {
      "image/png": "[encoded data removed]",
      "text/plain": [
       "<Figure size 1500x500 with 2 Axes>"
      ]
     },
     "metadata": {},
     "output_type": "display_data"
    }
   ],
   "source": [
    "fig, axes = plt.subplots(1,2, figsize=(15,5))\n",
    "graph = sns.histplot(data, x='time', bins=50, ax=axes[0], stat='density')\n",
    "graph.set(title=\"Answering duration histogram\", xlabel=\"Answering duration\")\n",
    "graph = sns.histplot(data, x='userconf', bins=50, ax=axes[1], stat='density')\n",
    "graph.set(title=\"Normalized user confidence histogram\", xlabel=\"Normalized reported confidence\")\n",
    "plt.savefig(f\"results/users/hists\")\n",
    "plt.show()"
   ]
  },
  {
   "cell_type": "markdown",
   "id": "5dd64215-c023-4332-8fd5-17cf956190c6",
   "metadata": {},
   "source": [
    "mean time in task"
   ]
  },
  {
   "cell_type": "code",
   "execution_count": 67,
   "id": "d46b9b6d-d034-4fdc-8fe6-cd30862985a6",
   "metadata": {},
   "outputs": [
    {
     "data": {
      "text/plain": [
       "7.674489795918367"
      ]
     },
     "execution_count": 67,
     "metadata": {},
     "output_type": "execute_result"
    }
   ],
   "source": [
    "data.groupby('user_id')['time'].sum().mean()/60"
   ]
  },
  {
   "cell_type": "markdown",
   "id": "c9aa3205-ade6-47d5-a377-a1ab729e15a4",
   "metadata": {},
   "source": [
    "mean time in question"
   ]
  },
  {
   "cell_type": "code",
   "execution_count": 69,
   "id": "73c861e2-39ef-48ef-909b-a161a2fd50d3",
   "metadata": {},
   "outputs": [
    {
     "data": {
      "text/plain": [
       "15.348979591836734"
      ]
     },
     "execution_count": 69,
     "metadata": {},
     "output_type": "execute_result"
    }
   ],
   "source": [
    "data['time'].mean()"
   ]
  },
  {
   "cell_type": "markdown",
   "id": "67546ed0-948a-4518-9bde-0a0d2aedae27",
   "metadata": {},
   "source": [
    "match / non-match predicted label distribution"
   ]
  },
  {
   "cell_type": "code",
   "execution_count": 76,
   "id": "bac4f8b0-6803-4fa1-ac5b-522a03744bfd",
   "metadata": {},
   "outputs": [
    {
     "data": {
      "text/plain": [
       "user_ans_is_match\n",
       "0    1629\n",
       "1    2781\n",
       "dtype: int64"
      ]
     },
     "metadata": {},
     "output_type": "display_data"
    },
    {
     "data": {
      "image/png": "[encoded data removed]",
      "text/plain": [
       "<Figure size 640x480 with 1 Axes>"
      ]
     },
     "metadata": {},
     "output_type": "display_data"
    }
   ],
   "source": [
    "palette_color = sns.color_palette('bright')\n",
    "counts = data.groupby('user_ans_is_match').size()\n",
    "display(counts)\n",
    "plt.pie(counts.values, labels=counts.index, colors=palette_color, autopct='%.2f%%')\n",
    "plt.show()"
   ]
  },
  {
   "cell_type": "markdown",
   "id": "1a6aed7c-e6b3-4c14-9b93-d40220267ac9",
   "metadata": {},
   "source": [
    "Mean normalized confidence"
   ]
  },
  {
   "cell_type": "code",
   "execution_count": 73,
   "id": "f6aac36a-969f-4bda-8dc4-ea75f59f4df7",
   "metadata": {},
   "outputs": [
    {
     "data": {
      "text/plain": [
       "0.5089433106575963"
      ]
     },
     "execution_count": 73,
     "metadata": {},
     "output_type": "execute_result"
    }
   ],
   "source": [
    "data['userconf'].mean()"
   ]
  }
 ],
 "metadata": {
  "kernelspec": {
   "display_name": "Python 3 (ipykernel)",
   "language": "python",
   "name": "python3"
  },
  "language_info": {
   "codemirror_mode": {
    "name": "ipython",
    "version": 3
   },
   "file_extension": ".py",
   "mimetype": "text/x-python",
   "name": "python",
   "nbconvert_exporter": "python",
   "pygments_lexer": "ipython3",
   "version": "3.9.12"
  }
 },
 "nbformat": 4,
 "nbformat_minor": 5
}
